{
 "cells": [
  {
   "cell_type": "code",
   "execution_count": 1,
   "metadata": {},
   "outputs": [
    {
     "name": "stdout",
     "output_type": "stream",
     "text": [
      "70\n"
     ]
    }
   ],
   "source": [
    "# Given two integer numbers, return their product only if the product is equal to or lower than 1000. Otherwise, return their sum.\n",
    "\n",
    "number1 = 40\n",
    "number2 = 30\n",
    "\n",
    "if number1*number2 <= 1000:\n",
    "    print(number1*number2)\n",
    "else:\n",
    "    print(number1+number2)"
   ]
  },
  {
   "cell_type": "code",
   "execution_count": 2,
   "metadata": {},
   "outputs": [
    {
     "name": "stdout",
     "output_type": "stream",
     "text": [
      "-1\n",
      "1\n",
      "3\n",
      "5\n",
      "7\n",
      "9\n",
      "11\n",
      "13\n",
      "15\n",
      "17\n"
     ]
    }
   ],
   "source": [
    "# Write a program to iterate the first 10 numbers, and in each iteration, print the sum of the current and previous number.\n",
    "\n",
    "for i in range(10):\n",
    "    print(i-1+i)\n"
   ]
  },
  {
   "cell_type": "code",
   "execution_count": 4,
   "metadata": {},
   "outputs": [
    {
     "name": "stdout",
     "output_type": "stream",
     "text": [
      "M\n",
      "l\n",
      "n\n"
     ]
    }
   ],
   "source": [
    "# Write a program to accept a string from the user and display characters that are present at an even index number.\n",
    "\n",
    "input_string = input()        # Harry_Potter\n",
    "\n",
    "for i in range(0, len(input_string)):\n",
    "    if i%2 == 0:\n",
    "        print(input_string[i])"
   ]
  },
  {
   "cell_type": "code",
   "execution_count": 5,
   "metadata": {},
   "outputs": [
    {
     "data": {
      "text/plain": [
       "'Milan'"
      ]
     },
     "execution_count": 5,
     "metadata": {},
     "output_type": "execute_result"
    }
   ],
   "source": [
    "# Write a program to remove characters from a string starting from zero up to n and return a new string.\n",
    "\n",
    "M = \"My name is Milan\"\n",
    "M[11:]"
   ]
  },
  {
   "cell_type": "code",
   "execution_count": 6,
   "metadata": {},
   "outputs": [
    {
     "name": "stdout",
     "output_type": "stream",
     "text": [
      "True\n"
     ]
    }
   ],
   "source": [
    "# Write a function to return True if the first and last number of a given list is same. If numbers are different then return False.\n",
    "\n",
    "Py = [24, 12, 20, 25, 24]\n",
    "if Py[0] == Py[-1]:\n",
    "    print(\"True\")\n",
    "else:\n",
    "    print(\"False\")"
   ]
  },
  {
   "cell_type": "code",
   "execution_count": 7,
   "metadata": {},
   "outputs": [
    {
     "name": "stdout",
     "output_type": "stream",
     "text": [
      "10\n",
      "25\n",
      "100\n",
      "35\n"
     ]
    }
   ],
   "source": [
    "# Iterate the given list of numbers and print only those numbers which are divisible by 5\n",
    "\n",
    "x = [10, 26, 25, 99, 100, 35]\n",
    "\n",
    "for i in x:\n",
    "    if i%5 ==0:\n",
    "        print(i)"
   ]
  },
  {
   "cell_type": "code",
   "execution_count": 8,
   "metadata": {},
   "outputs": [
    {
     "data": {
      "text/plain": [
       "2"
      ]
     },
     "execution_count": 8,
     "metadata": {},
     "output_type": "execute_result"
    }
   ],
   "source": [
    "# Write a program to find how many times substring “Emma” appears in the given string.\n",
    "\n",
    "str_x = \"Emma is good developer. Emma is a writer\"\n",
    "H = \"Emma\"\n",
    "str_x.count(H)"
   ]
  },
  {
   "cell_type": "code",
   "execution_count": 9,
   "metadata": {},
   "outputs": [
    {
     "name": "stdout",
     "output_type": "stream",
     "text": [
      "1 \n",
      "2 2 \n",
      "3 3 3 \n",
      "4 4 4 4 \n",
      "5 5 5 5 5 \n",
      "6 6 6 6 6 6 \n",
      "7 7 7 7 7 7 7 \n",
      "8 8 8 8 8 8 8 8 \n",
      "9 9 9 9 9 9 9 9 9 \n",
      "10 10 10 10 10 10 10 10 10 10 \n"
     ]
    }
   ],
   "source": [
    "what = 10\n",
    "for i in range(1, what+1):\n",
    "    for j in range(i):\n",
    "        print(i, end=' ')\n",
    "    print()"
   ]
  },
  {
   "cell_type": "code",
   "execution_count": 10,
   "metadata": {},
   "outputs": [
    {
     "name": "stdout",
     "output_type": "stream",
     "text": [
      "This number is palindrome\n"
     ]
    }
   ],
   "source": [
    "num1 = 123321\n",
    "h = \"{}\".format(num1)\n",
    "g=h[::-1]\n",
    "if h==g:\n",
    "    print(\"This number is palindrome\")\n",
    "else:\n",
    "    print(\"This number is not palindrome\")"
   ]
  },
  {
   "cell_type": "code",
   "execution_count": 11,
   "metadata": {},
   "outputs": [
    {
     "data": {
      "text/plain": [
       "[1234]"
      ]
     },
     "execution_count": 11,
     "metadata": {},
     "output_type": "execute_result"
    }
   ],
   "source": [
    "MV = [1234]\n",
    "Vm = MV[::-1]\n",
    "Vm"
   ]
  },
  {
   "cell_type": "code",
   "execution_count": 12,
   "metadata": {},
   "outputs": [
    {
     "name": "stdout",
     "output_type": "stream",
     "text": [
      "Digits in reverse order: [4, 3, 2, 1]\n"
     ]
    }
   ],
   "source": [
    "# Taking input from the user\n",
    "number = 1234\n",
    "\n",
    "# Extracting digits in reverse order without using a function\n",
    "digits_reverse = []\n",
    "while number != 0:\n",
    "    digit = number % 10\n",
    "    digits_reverse.append(digit)\n",
    "    number //= 10\n",
    "\n",
    "# Printing the digits in reverse order\n",
    "print(\"Digits in reverse order:\", digits_reverse)\n"
   ]
  },
  {
   "cell_type": "code",
   "execution_count": 13,
   "metadata": {},
   "outputs": [
    {
     "name": "stdout",
     "output_type": "stream",
     "text": [
      "Given number 7536\n",
      "6 3 5 7 "
     ]
    }
   ],
   "source": [
    "number = 7536\n",
    "print(\"Given number\", number)\n",
    "while number > 0:\n",
    "    # get the last digit\n",
    "    digit = number % 10\n",
    "    # remove the last digit and repeat the loop\n",
    "    number = number // 10\n",
    "    print(digit, end=\" \")"
   ]
  },
  {
   "cell_type": "code",
   "execution_count": 14,
   "metadata": {},
   "outputs": [
    {
     "name": "stdout",
     "output_type": "stream",
     "text": [
      "2000.0\n"
     ]
    }
   ],
   "source": [
    "# Calculate income tax for the given income by adhering to the rules below\n",
    "\n",
    "Income = 25000\n",
    "A = 10000\n",
    "B = 10000\n",
    "C = Income-A-B\n",
    "\n",
    "print(A/100*0 + B/100*10 + C/100*20)"
   ]
  },
  {
   "cell_type": "code",
   "execution_count": 15,
   "metadata": {},
   "outputs": [
    {
     "name": "stdout",
     "output_type": "stream",
     "text": [
      "1 * 1 = 1\t 1 * 2 = 2\t 1 * 3 = 3\t 1 * 4 = 4\t 1 * 5 = 5\t 1 * 6 = 6\t 1 * 7 = 7\t 1 * 8 = 8\t 1 * 9 = 9\t 1 * 10 = 10\t \n",
      "2 * 1 = 2\t 2 * 2 = 4\t 2 * 3 = 6\t 2 * 4 = 8\t 2 * 5 = 10\t 2 * 6 = 12\t 2 * 7 = 14\t 2 * 8 = 16\t 2 * 9 = 18\t 2 * 10 = 20\t \n",
      "3 * 1 = 3\t 3 * 2 = 6\t 3 * 3 = 9\t 3 * 4 = 12\t 3 * 5 = 15\t 3 * 6 = 18\t 3 * 7 = 21\t 3 * 8 = 24\t 3 * 9 = 27\t 3 * 10 = 30\t \n",
      "4 * 1 = 4\t 4 * 2 = 8\t 4 * 3 = 12\t 4 * 4 = 16\t 4 * 5 = 20\t 4 * 6 = 24\t 4 * 7 = 28\t 4 * 8 = 32\t 4 * 9 = 36\t 4 * 10 = 40\t \n",
      "5 * 1 = 5\t 5 * 2 = 10\t 5 * 3 = 15\t 5 * 4 = 20\t 5 * 5 = 25\t 5 * 6 = 30\t 5 * 7 = 35\t 5 * 8 = 40\t 5 * 9 = 45\t 5 * 10 = 50\t \n",
      "6 * 1 = 6\t 6 * 2 = 12\t 6 * 3 = 18\t 6 * 4 = 24\t 6 * 5 = 30\t 6 * 6 = 36\t 6 * 7 = 42\t 6 * 8 = 48\t 6 * 9 = 54\t 6 * 10 = 60\t \n",
      "7 * 1 = 7\t 7 * 2 = 14\t 7 * 3 = 21\t 7 * 4 = 28\t 7 * 5 = 35\t 7 * 6 = 42\t 7 * 7 = 49\t 7 * 8 = 56\t 7 * 9 = 63\t 7 * 10 = 70\t \n",
      "8 * 1 = 8\t 8 * 2 = 16\t 8 * 3 = 24\t 8 * 4 = 32\t 8 * 5 = 40\t 8 * 6 = 48\t 8 * 7 = 56\t 8 * 8 = 64\t 8 * 9 = 72\t 8 * 10 = 80\t \n",
      "9 * 1 = 9\t 9 * 2 = 18\t 9 * 3 = 27\t 9 * 4 = 36\t 9 * 5 = 45\t 9 * 6 = 54\t 9 * 7 = 63\t 9 * 8 = 72\t 9 * 9 = 81\t 9 * 10 = 90\t \n",
      "10 * 1 = 10\t 10 * 2 = 20\t 10 * 3 = 30\t 10 * 4 = 40\t 10 * 5 = 50\t 10 * 6 = 60\t 10 * 7 = 70\t 10 * 8 = 80\t 10 * 9 = 90\t 10 * 10 = 100\t \n"
     ]
    }
   ],
   "source": [
    "row = 1\n",
    "\n",
    "while row <= 10:\n",
    "    col = 1\n",
    "    while col <= 10:\n",
    "        product = row * col\n",
    "        print(f\"{row} * {col} = {product}\\t\", end=\" \")\n",
    "        col += 1\n",
    "    print()\n",
    "    row += 1"
   ]
  },
  {
   "cell_type": "code",
   "execution_count": 16,
   "metadata": {},
   "outputs": [
    {
     "name": "stdout",
     "output_type": "stream",
     "text": [
      "1 2 3 4 5 6 7 8 9 10 \t\t\n",
      "2 4 6 8 10 12 14 16 18 20 \t\t\n",
      "3 6 9 12 15 18 21 24 27 30 \t\t\n",
      "4 8 12 16 20 24 28 32 36 40 \t\t\n",
      "5 10 15 20 25 30 35 40 45 50 \t\t\n",
      "6 12 18 24 30 36 42 48 54 60 \t\t\n",
      "7 14 21 28 35 42 49 56 63 70 \t\t\n",
      "8 16 24 32 40 48 56 64 72 80 \t\t\n",
      "9 18 27 36 45 54 63 72 81 90 \t\t\n",
      "10 20 30 40 50 60 70 80 90 100 \t\t\n"
     ]
    }
   ],
   "source": [
    "# Print multiplication table from 1 to 10\n",
    "\n",
    "for i in range(1, 11):\n",
    "    for j in range(1, 11):\n",
    "        print(i * j, end=\" \")\n",
    "    print(\"\\t\\t\")"
   ]
  },
  {
   "cell_type": "code",
   "execution_count": 17,
   "metadata": {},
   "outputs": [
    {
     "name": "stdout",
     "output_type": "stream",
     "text": [
      "* * * * *  \n",
      "* * * *  \n",
      "* * *  \n",
      "* *  \n",
      "*  \n",
      " \n"
     ]
    }
   ],
   "source": [
    "# Print a downward Half-Pyramid Pattern of Star (asterisk)\n",
    "\n",
    "for i in range(6, 0, -1):\n",
    "    for j in range(0, i - 1):\n",
    "        print(\"*\", end=' ')\n",
    "    print(\" \")"
   ]
  },
  {
   "cell_type": "code",
   "execution_count": 18,
   "metadata": {},
   "outputs": [
    {
     "name": "stdout",
     "output_type": "stream",
     "text": [
      "32\n"
     ]
    }
   ],
   "source": [
    "base = 2\n",
    "exponent = 5\n",
    "\n",
    "print(base**exponent)"
   ]
  },
  {
   "cell_type": "code",
   "execution_count": 19,
   "metadata": {},
   "outputs": [
    {
     "name": "stdout",
     "output_type": "stream",
     "text": [
      "6\n"
     ]
    }
   ],
   "source": [
    "# Write a program to accept two numbers from the user and calculate multiplication\n",
    "\n",
    "x = int(input())\n",
    "Y = int(input())\n",
    "\n",
    "print(x*Y)"
   ]
  },
  {
   "cell_type": "code",
   "execution_count": 20,
   "metadata": {},
   "outputs": [
    {
     "name": "stdout",
     "output_type": "stream",
     "text": [
      "My**Name**Is**Milan\n"
     ]
    }
   ],
   "source": [
    "# Use the print() function to format the given words in the mentioned format. Display the ** separator between each string.\n",
    "\n",
    "print('My', 'Name', 'Is', 'Milan', sep='**')"
   ]
  },
  {
   "cell_type": "code",
   "execution_count": 21,
   "metadata": {},
   "outputs": [
    {
     "name": "stdout",
     "output_type": "stream",
     "text": [
      "10\n"
     ]
    }
   ],
   "source": [
    "# Convert Decimal number to octal using print() output formatting\n",
    "\n",
    "num = 8 \n",
    "print('%o' % num)"
   ]
  },
  {
   "cell_type": "code",
   "execution_count": 22,
   "metadata": {},
   "outputs": [
    {
     "name": "stdout",
     "output_type": "stream",
     "text": [
      "24.25\n"
     ]
    }
   ],
   "source": [
    "# Display float number with 2 decimal places using print()\n",
    "\n",
    "num = 24.2525456585\n",
    "print(num.__round__(2))"
   ]
  },
  {
   "cell_type": "code",
   "execution_count": 23,
   "metadata": {},
   "outputs": [
    {
     "name": "stdout",
     "output_type": "stream",
     "text": [
      "458.54\n"
     ]
    }
   ],
   "source": [
    "num = 458.541315\n",
    "print('%.2f' % num)"
   ]
  },
  {
   "cell_type": "code",
   "execution_count": 25,
   "metadata": {},
   "outputs": [
    {
     "name": "stdout",
     "output_type": "stream",
     "text": [
      "0 :\n",
      "1 :\n",
      "2 :\n",
      "3 :\n",
      "4 :\n",
      "User List: [1.2, 2.3, 3.4, 4.5, 5.6]\n"
     ]
    }
   ],
   "source": [
    "# Accept a list of 5 float numbers as an input from the user\n",
    "\n",
    "number = []\n",
    "\n",
    "for i in range(0, 5):\n",
    "    print(i, \":\")\n",
    "    item = float(input())\n",
    "    number.append(item)\n",
    "\n",
    "print(\"User List:\", number)"
   ]
  },
  {
   "cell_type": "code",
   "execution_count": 26,
   "metadata": {},
   "outputs": [
    {
     "name": "stdout",
     "output_type": "stream",
     "text": [
      "Milan\n",
      "Virash\n",
      "HP\n"
     ]
    }
   ],
   "source": [
    "# Accept any three string from one input() call\n",
    "\n",
    "str1, str2, str3 = input(\"Enter Three Strings\").split()\n",
    "print(str1)\n",
    "print(str2)\n",
    "print(str3)"
   ]
  },
  {
   "cell_type": "code",
   "execution_count": 27,
   "metadata": {},
   "outputs": [
    {
     "name": "stdout",
     "output_type": "stream",
     "text": [
      "I have 1000 ruppes so I can buy 3 football for 450 Ruppes.\n"
     ]
    }
   ],
   "source": [
    "totalMoney = 1000\n",
    "quantity = 3\n",
    "price = 450\n",
    "\n",
    "HP = \"I have {} ruppes so I can buy {} football for {} Ruppes.\"\n",
    "\n",
    "print(HP.format(totalMoney, quantity, price))"
   ]
  },
  {
   "cell_type": "code",
   "execution_count": 28,
   "metadata": {},
   "outputs": [
    {
     "name": "stdout",
     "output_type": "stream",
     "text": [
      "1\n",
      "2\n",
      "3\n",
      "4\n",
      "5\n",
      "6\n",
      "7\n",
      "8\n",
      "9\n",
      "10\n"
     ]
    }
   ],
   "source": [
    "# Print First 10 natural numbers using while loop \n",
    "\n",
    "count = 1\n",
    "\n",
    "while count <= 10:\n",
    "    print(count)\n",
    "    count += 1"
   ]
  },
  {
   "cell_type": "code",
   "execution_count": 29,
   "metadata": {},
   "outputs": [
    {
     "name": "stdout",
     "output_type": "stream",
     "text": [
      "Sum is: 55\n"
     ]
    }
   ],
   "source": [
    "# Write a program to accept a number from a user and calculate the sum of all numbers from 1 to a given number\n",
    "\n",
    "n = int(input(\"Enter number \"))\n",
    "# pass range of numbers to sum() function\n",
    "x = sum(range(1, n + 1))\n",
    "print('Sum is:', x)"
   ]
  },
  {
   "cell_type": "code",
   "execution_count": 30,
   "metadata": {},
   "outputs": [
    {
     "name": "stdout",
     "output_type": "stream",
     "text": [
      "2\n",
      "4\n",
      "6\n",
      "8\n",
      "10\n",
      "12\n",
      "14\n",
      "16\n",
      "18\n",
      "20\n"
     ]
    }
   ],
   "source": [
    "# Write a program to print multiplication table of a given number\n",
    "\n",
    "n = 2\n",
    "\n",
    "for i in range(1, 11, 1):\n",
    "    print(n*i)"
   ]
  },
  {
   "cell_type": "code",
   "execution_count": 31,
   "metadata": {},
   "outputs": [
    {
     "name": "stdout",
     "output_type": "stream",
     "text": [
      "75\n",
      "150\n",
      "145\n"
     ]
    }
   ],
   "source": [
    "#Write a program to display only those numbers from a list that satisfy the following conditions\n",
    "\n",
    "#The number must be divisible by five\n",
    "#If the number is greater than 150, then skip it and move to the next number\n",
    "#If the number is greater than 500, then stop the loop\n",
    "\n",
    "Numbersss = [12, 75, 150, 180, 145, 525, 50]\n",
    "for i in Numbersss:\n",
    "    if i > 500:\n",
    "        break\n",
    "    elif i > 150:\n",
    "        continue\n",
    "    elif i % 5 == 0:\n",
    "        print(i)"
   ]
  },
  {
   "cell_type": "code",
   "execution_count": 32,
   "metadata": {},
   "outputs": [
    {
     "name": "stdout",
     "output_type": "stream",
     "text": [
      "Total digits are: 5\n"
     ]
    }
   ],
   "source": [
    "# Count the total number of digits in a number\n",
    "\n",
    "num = 75869\n",
    "\n",
    "count = 0\n",
    "\n",
    "while num != 0:\n",
    "    num = num // 10\n",
    "    count = count + 1\n",
    "print(\"Total digits are:\", count)"
   ]
  },
  {
   "cell_type": "code",
   "execution_count": 33,
   "metadata": {},
   "outputs": [
    {
     "name": "stdout",
     "output_type": "stream",
     "text": [
      "50\n",
      "40\n",
      "30\n",
      "20\n",
      "10\n"
     ]
    }
   ],
   "source": [
    "# Print list in reverse order using a loop\n",
    "\n",
    "list1 = [10, 20, 30, 40, 50]\n",
    "\n",
    "list1.reverse()\n",
    "\n",
    "for i in list1:\n",
    "    print(i)"
   ]
  },
  {
   "cell_type": "code",
   "execution_count": 34,
   "metadata": {},
   "outputs": [
    {
     "name": "stdout",
     "output_type": "stream",
     "text": [
      "-10\n",
      "-9\n",
      "-8\n",
      "-7\n",
      "-6\n",
      "-5\n",
      "-4\n",
      "-3\n",
      "-2\n",
      "-1\n"
     ]
    }
   ],
   "source": [
    "# Display numbers from -10 to -1 using for loop\n",
    "\n",
    "for i in range(-10, 0, 1):\n",
    "    print(i)"
   ]
  },
  {
   "cell_type": "code",
   "execution_count": 35,
   "metadata": {},
   "outputs": [
    {
     "name": "stdout",
     "output_type": "stream",
     "text": [
      "0\n",
      "1\n",
      "2\n",
      "3\n",
      "4\n",
      "Done!\n"
     ]
    }
   ],
   "source": [
    "# Use else block to display a message “Done” after successful execution of for loop\n",
    "\n",
    "for i in range(5):\n",
    "    print(i)\n",
    "else:\n",
    "    print(\"Done!\")"
   ]
  },
  {
   "cell_type": "code",
   "execution_count": 36,
   "metadata": {},
   "outputs": [
    {
     "name": "stdout",
     "output_type": "stream",
     "text": [
      "0 1 1 2 3 5 8 13 21 34 "
     ]
    }
   ],
   "source": [
    "# Display Fibonacci series up to 10 terms\n",
    "\n",
    "num1, num2 = 0, 1\n",
    "\n",
    "for i in range(10):\n",
    "    print(num1, end=\" \")\n",
    "    res =  num1 +num2\n",
    "\n",
    "    num1 = num2\n",
    "    num2 = res"
   ]
  },
  {
   "cell_type": "code",
   "execution_count": 37,
   "metadata": {},
   "outputs": [
    {
     "name": "stdout",
     "output_type": "stream",
     "text": [
      "The factorial of 5 is 120\n"
     ]
    }
   ],
   "source": [
    "# Find the factorial of a given number\n",
    "\n",
    "num = 5\n",
    "factorial = 1\n",
    "if num < 0:\n",
    "    print(\"Factorial does not exist for Negative Numbers\")\n",
    "elif num == 0:\n",
    "    print(\"The factorial of 0 is 1\")\n",
    "else:\n",
    "    for i in range(1, num + 1):\n",
    "        factorial = factorial * i\n",
    "    print(\"The factorial of\", num, \"is\", factorial)"
   ]
  },
  {
   "cell_type": "code",
   "execution_count": 38,
   "metadata": {},
   "outputs": [
    {
     "name": "stdout",
     "output_type": "stream",
     "text": [
      "given Number 76542\n",
      "Reversed number: 24567\n"
     ]
    }
   ],
   "source": [
    "# Reverse a given integer number\n",
    "\n",
    "num = 76542\n",
    "reverse_number = 0\n",
    "print(\"given Number\", num)\n",
    "while num > 0:\n",
    "    reminder = num % 10\n",
    "    reverse_number = (reverse_number * 10) + reminder\n",
    "    num = num // 10\n",
    "print(\"Reversed number:\", reverse_number)"
   ]
  },
  {
   "cell_type": "code",
   "execution_count": 39,
   "metadata": {},
   "outputs": [
    {
     "name": "stdout",
     "output_type": "stream",
     "text": [
      "20\n",
      "40\n",
      "60\n",
      "80\n",
      "100\n"
     ]
    }
   ],
   "source": [
    "# Use a loop to display elements from a given list present at odd index positions\n",
    "\n",
    "my_list = [10, 20, 30, 40, 50, 60, 70, 80, 90, 100]\n",
    "for i in my_list[1::2]:\n",
    "    print(i)"
   ]
  },
  {
   "cell_type": "code",
   "execution_count": 40,
   "metadata": {},
   "outputs": [
    {
     "name": "stdout",
     "output_type": "stream",
     "text": [
      "Current Number is : 1 And the cube is 1\n",
      "Current Number is : 2 And the cube is 8\n",
      "Current Number is : 3 And the cube is 27\n",
      "Current Number is : 4 And the cube is 64\n",
      "Current Number is : 5 And the cube is 125\n"
     ]
    }
   ],
   "source": [
    "# Calculate the cube of all numbers from 1 to a given number\n",
    "\n",
    "integer = int(input())\n",
    "for i in range(1, integer + 1):\n",
    "    print(\"Current Number is :\", i, \"And the cube is\", (i * i * i))"
   ]
  },
  {
   "cell_type": "code",
   "execution_count": 41,
   "metadata": {},
   "outputs": [
    {
     "name": "stdout",
     "output_type": "stream",
     "text": [
      "2+22+222+2222+22222+\n",
      "Sum of above series is: 24690\n"
     ]
    }
   ],
   "source": [
    "# Find the sum of the series upto n terms\n",
    "\n",
    "n = 5\n",
    "# first number of sequence\n",
    "start = 2\n",
    "sum_seq = 0\n",
    "\n",
    "# run loop n times\n",
    "for i in range(0, n):\n",
    "    print(start, end=\"+\")\n",
    "    sum_seq += start\n",
    "    # calculate the next term\n",
    "    start = start * 10 + 2\n",
    "print(\"\\nSum of above series is:\", sum_seq)"
   ]
  },
  {
   "cell_type": "code",
   "execution_count": 42,
   "metadata": {},
   "outputs": [
    {
     "name": "stdout",
     "output_type": "stream",
     "text": [
      "* \n",
      "* * \n",
      "* * * \n",
      "* * * * \n",
      "* * * * * \n",
      "* * * * \n",
      "* * * \n",
      "* * \n",
      "* \n",
      "\n"
     ]
    }
   ],
   "source": [
    "#  Print the following pattern\n",
    "\n",
    "rows = 5\n",
    "for i in range(0, rows):\n",
    "    for j in range(0, i + 1):\n",
    "        print(\"*\", end=' ')\n",
    "    print(\"\\r\")\n",
    "\n",
    "for i in range(rows, 0, -1):\n",
    "    for j in range(0, i - 1):\n",
    "        print(\"*\", end=' ')\n",
    "    print(\"\\r\")"
   ]
  },
  {
   "cell_type": "code",
   "execution_count": 43,
   "metadata": {},
   "outputs": [
    {
     "name": "stdout",
     "output_type": "stream",
     "text": [
      "Milan 21\n"
     ]
    }
   ],
   "source": [
    "# Write a program to create a function that takes two arguments, name and age, and print their value.\n",
    "\n",
    "def Bio(name, age):\n",
    "    print(name, age)\n",
    "\n",
    "Bio(\"Milan\", 21)"
   ]
  },
  {
   "cell_type": "code",
   "execution_count": 44,
   "metadata": {},
   "outputs": [
    {
     "name": "stdout",
     "output_type": "stream",
     "text": [
      "20\n",
      "40\n",
      "60\n",
      "80\n",
      "100\n"
     ]
    }
   ],
   "source": [
    "def func1(*args):\n",
    "    for i in args:\n",
    "        print(i)\n",
    "\n",
    "func1(20, 40, 60)\n",
    "func1(80, 100)"
   ]
  },
  {
   "cell_type": "code",
   "execution_count": 45,
   "metadata": {},
   "outputs": [
    {
     "data": {
      "text/plain": [
       "(30, 10)"
      ]
     },
     "execution_count": 45,
     "metadata": {},
     "output_type": "execute_result"
    }
   ],
   "source": [
    "def calculation(a, b):\n",
    "    addition = a + b\n",
    "    subtraction = a - b\n",
    "    return addition, subtraction\n",
    "\n",
    "calculation(20, 10)"
   ]
  },
  {
   "cell_type": "code",
   "execution_count": 46,
   "metadata": {},
   "outputs": [
    {
     "name": "stdout",
     "output_type": "stream",
     "text": [
      "Name: Milan Salary: 600000\n",
      "Name: HP Salary: 9000\n"
     ]
    }
   ],
   "source": [
    "def show_employee(name, salary=9000):\n",
    "    print(\"Name:\", name, \"Salary:\", salary)\n",
    "\n",
    "show_employee(\"Milan\", 600000)\n",
    "show_employee(\"HP\")"
   ]
  },
  {
   "cell_type": "code",
   "execution_count": 47,
   "metadata": {},
   "outputs": [
    {
     "name": "stdout",
     "output_type": "stream",
     "text": [
      "20\n"
     ]
    }
   ],
   "source": [
    "# outer function\n",
    "def outer_fun(a, b):\n",
    "    square = a ** 2\n",
    "\n",
    "    # inner function\n",
    "    def addition(a, b):\n",
    "        return a + b\n",
    "\n",
    "    # call inner function from outer function\n",
    "    add = addition(a, b)\n",
    "    # add 5 to the result\n",
    "    return add + 5\n",
    "\n",
    "result = outer_fun(5, 10)\n",
    "print(result)"
   ]
  },
  {
   "cell_type": "code",
   "execution_count": 48,
   "metadata": {},
   "outputs": [
    {
     "data": {
      "text/plain": [
       "55"
      ]
     },
     "execution_count": 48,
     "metadata": {},
     "output_type": "execute_result"
    }
   ],
   "source": [
    "def addition(num):\n",
    "    if num:\n",
    "        return num + addition(num - 1)\n",
    "    else:\n",
    "        return 0\n",
    "    \n",
    "addition(10)"
   ]
  },
  {
   "cell_type": "code",
   "execution_count": 49,
   "metadata": {},
   "outputs": [
    {
     "name": "stdout",
     "output_type": "stream",
     "text": [
      "Milan 21\n"
     ]
    }
   ],
   "source": [
    "def display_student(name, age):\n",
    "    print(name, age)\n",
    "\n",
    "show_Student = display_student\n",
    "\n",
    "show_Student(\"Milan\", 21)"
   ]
  },
  {
   "cell_type": "code",
   "execution_count": 50,
   "metadata": {},
   "outputs": [
    {
     "name": "stdout",
     "output_type": "stream",
     "text": [
      "[4, 6, 8, 10, 12, 14, 16, 18, 20, 22, 24, 26, 28]\n"
     ]
    }
   ],
   "source": [
    "print(list(range(4, 30, 2)))"
   ]
  },
  {
   "cell_type": "code",
   "execution_count": 51,
   "metadata": {},
   "outputs": [
    {
     "name": "stdout",
     "output_type": "stream",
     "text": [
      "24\n"
     ]
    }
   ],
   "source": [
    "x = [4, 6, 8, 24, 12, 2]\n",
    "\n",
    "print(max(x))"
   ]
  },
  {
   "cell_type": "code",
   "execution_count": 13,
   "metadata": {},
   "outputs": [
    {
     "name": "stdout",
     "output_type": "stream",
     "text": [
      "(24, 12, 20, 20)\n",
      "<class 'tuple'>\n"
     ]
    }
   ],
   "source": [
    "A = (24, 12, 20, 20)\n",
    "\n",
    "print(A)\n",
    "print(type(A))"
   ]
  },
  {
   "cell_type": "code",
   "execution_count": 14,
   "metadata": {},
   "outputs": [],
   "source": [
    "A = list(A)"
   ]
  },
  {
   "cell_type": "code",
   "execution_count": 15,
   "metadata": {},
   "outputs": [],
   "source": [
    "A.append(1659)"
   ]
  },
  {
   "cell_type": "code",
   "execution_count": 16,
   "metadata": {},
   "outputs": [
    {
     "name": "stdout",
     "output_type": "stream",
     "text": [
      "[24, 12, 20, 20, 1659]\n",
      "<class 'list'>\n"
     ]
    }
   ],
   "source": [
    "print(A)\n",
    "print(type(A))"
   ]
  },
  {
   "cell_type": "code",
   "execution_count": 17,
   "metadata": {},
   "outputs": [],
   "source": [
    "A = tuple(A)"
   ]
  },
  {
   "cell_type": "code",
   "execution_count": 18,
   "metadata": {},
   "outputs": [
    {
     "name": "stdout",
     "output_type": "stream",
     "text": [
      "(24, 12, 20, 20, 1659)\n",
      "<class 'tuple'>\n"
     ]
    }
   ],
   "source": [
    "print(A)\n",
    "print(type(A))"
   ]
  },
  {
   "cell_type": "code",
   "execution_count": 20,
   "metadata": {},
   "outputs": [
    {
     "name": "stdout",
     "output_type": "stream",
     "text": [
      "24\n",
      "12\n",
      "20\n",
      "20\n",
      "1659\n"
     ]
    }
   ],
   "source": [
    "for i in A:\n",
    "    print(i)"
   ]
  }
 ],
 "metadata": {
  "kernelspec": {
   "display_name": "Python 3",
   "language": "python",
   "name": "python3"
  },
  "language_info": {
   "codemirror_mode": {
    "name": "ipython",
    "version": 3
   },
   "file_extension": ".py",
   "mimetype": "text/x-python",
   "name": "python",
   "nbconvert_exporter": "python",
   "pygments_lexer": "ipython3",
   "version": "3.10.10"
  }
 },
 "nbformat": 4,
 "nbformat_minor": 2
}
