{
 "cells": [
  {
   "cell_type": "markdown",
   "metadata": {},
   "source": [
    "# Z TEST"
   ]
  },
  {
   "cell_type": "markdown",
   "metadata": {},
   "source": [
    "#Using a Z-Test to Assess Average Weight Loss:"
   ]
  },
  {
   "cell_type": "markdown",
   "metadata": {},
   "source": [
    "#Imagine you’re evaluating the effectiveness of a weight loss program. You collect data on the weight loss of 100 participants who completed the program and want to test if, on average, participants lost a significant amount of weight."
   ]
  },
  {
   "cell_type": "markdown",
   "metadata": {},
   "source": [
    "#Null Hypothesis (H0): The average weight loss in the program is equal to or less than zero (μ ≤ 0).\n"
   ]
  },
  {
   "cell_type": "markdown",
   "metadata": {},
   "source": [
    "#Alternative Hypothesis (Ha): The average weight loss in the program is greater than zero (μ > 0)."
   ]
  },
  {
   "cell_type": "code",
   "execution_count": 1,
   "metadata": {},
   "outputs": [],
   "source": [
    "import random"
   ]
  },
  {
   "cell_type": "code",
   "execution_count": 2,
   "metadata": {},
   "outputs": [],
   "source": [
    "# generate sample weight loss data(in pounds)\n",
    "\n",
    "random.seed(42)   # for reproducibility\n",
    "\n",
    "weight_loss_data = [random.uniform(0.5, 10) for _ in range(100)]"
   ]
  },
  {
   "cell_type": "code",
   "execution_count": 6,
   "metadata": {},
   "outputs": [],
   "source": [
    "import numpy as np"
   ]
  },
  {
   "cell_type": "code",
   "execution_count": 7,
   "metadata": {},
   "outputs": [
    {
     "data": {
      "text/plain": [
       "(5.05590780970096, 2.8025373784562273, 18.04046521758078)"
      ]
     },
     "execution_count": 7,
     "metadata": {},
     "output_type": "execute_result"
    }
   ],
   "source": [
    "# calculate the sample mean and sample standard deviation\n",
    "\n",
    "sample_mean = np.mean(weight_loss_data)\n",
    "sample_std = np.std(weight_loss_data, ddof=1)    # use bassel's correlation for sample std\n",
    "\n",
    "# calculate Z score \n",
    "\n",
    "population_mean = 0    # Hypothesized population mean\n",
    "z_score = (sample_mean - population_mean) / (sample_std / np.sqrt(len(weight_loss_data)))\n",
    "\n",
    "sample_mean, sample_std, z_score"
   ]
  },
  {
   "cell_type": "code",
   "execution_count": 9,
   "metadata": {},
   "outputs": [],
   "source": [
    "from scipy.stats import norm"
   ]
  },
  {
   "cell_type": "code",
   "execution_count": 10,
   "metadata": {},
   "outputs": [
    {
     "data": {
      "text/plain": [
       "1.6448536269514722"
      ]
     },
     "execution_count": 10,
     "metadata": {},
     "output_type": "execute_result"
    }
   ],
   "source": [
    "alpha = 0.05\n",
    "\n",
    "df = len(weight_loss_data) - 1\n",
    "\n",
    "# calculate the critical value\n",
    "\n",
    "critical_value = norm.ppf(1 - alpha)\n",
    "\n",
    "critical_value"
   ]
  },
  {
   "cell_type": "code",
   "execution_count": 11,
   "metadata": {},
   "outputs": [
    {
     "name": "stdout",
     "output_type": "stream",
     "text": [
      "reject the null hypothesis\n"
     ]
    }
   ],
   "source": [
    "if z_score > critical_value:\n",
    "    print(\"reject the null hypothesis\")\n",
    "else:\n",
    "    print(\"fail to reject the null hypothesis\")"
   ]
  },
  {
   "cell_type": "markdown",
   "metadata": {},
   "source": [
    "Decision: Reject H0.\n",
    "Interpretation: There is sufficient statistical evidence to conclude that, on average, participants in the weight loss program experienced significant weight loss."
   ]
  },
  {
   "cell_type": "code",
   "execution_count": null,
   "metadata": {},
   "outputs": [],
   "source": []
  }
 ],
 "metadata": {
  "kernelspec": {
   "display_name": "Python 3",
   "language": "python",
   "name": "python3"
  },
  "language_info": {
   "codemirror_mode": {
    "name": "ipython",
    "version": 3
   },
   "file_extension": ".py",
   "mimetype": "text/x-python",
   "name": "python",
   "nbconvert_exporter": "python",
   "pygments_lexer": "ipython3",
   "version": "3.10.10"
  }
 },
 "nbformat": 4,
 "nbformat_minor": 2
}
