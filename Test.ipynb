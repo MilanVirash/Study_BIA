{
 "cells": [
  {
   "cell_type": "code",
   "execution_count": 2,
   "metadata": {},
   "outputs": [],
   "source": [
    "# HOME WORK\n",
    "\n",
    "\n",
    "hw_inventory = {\n",
    "    \"Potato\": {\"price\": 10, \"Qty\": 2, \"Unit\": 'kg'},\n",
    "    \"Onion\": {\"price\": 20, \"Qty\": 3000, \"Unit\": 'g'},\n",
    "    \"Lettuce\": {\"price\": 30, \"Qty\": 50, \"Unit\": 'kg'},\n",
    "    \"Rawa\": {\"price\": 10, \"Qty\": 500, \"Unit\": 'g'}\n",
    "    }"
   ]
  },
  {
   "cell_type": "code",
   "execution_count": 3,
   "metadata": {},
   "outputs": [],
   "source": [
    "hw_menu = {\n",
    "    \"Pizza\": {\n",
    "            \"ingredients\": (\"Tomato\", \"Onion\"),\n",
    "            \"quantities\": (300, 2),\n",
    "            \"units\": (\"g\", \"kg\")\n",
    "        },\n",
    "    \"Burger\": {\n",
    "            \"ingredients\": (\"Lettuce\", \"Onion\"),\n",
    "            \"quantities\": (300, 2),\n",
    "            \"units\": (\"g\", \"kg\")\n",
    "        },\n",
    "    \"Pani puri\":{\n",
    "            \"ingredients\": (\"Potato\", \"Rawa\"),\n",
    "            \"quantities\": (300, 2),\n",
    "            \"units\": (\"g\", \"kg\")\n",
    "        },\n",
    "    }"
   ]
  },
  {
   "cell_type": "code",
   "execution_count": 4,
   "metadata": {},
   "outputs": [],
   "source": [
    "menu_item = \"Pizza\""
   ]
  },
  {
   "cell_type": "code",
   "execution_count": 5,
   "metadata": {},
   "outputs": [
    {
     "name": "stdout",
     "output_type": "stream",
     "text": [
      "Potato is not available enough\n",
      "Onion is enough for Pizza\n"
     ]
    }
   ],
   "source": [
    "if hw_inventory[\"Potato\"][\"Qty\"] >= hw_menu[\"Pani puri\"][\"quantities\"][0]: # qty = grams\n",
    "    print(\"Potato is enough\")\n",
    "else:\n",
    "    print(\"Potato is not available enough\")\n",
    "\n",
    "if hw_inventory[\"Onion\"][\"Qty\"] * 1000 >= hw_menu[\"Pizza\"][\"quantities\"][1]: # converting kg to grams\n",
    "    print(\"Onion is enough for Pizza\")\n",
    "else:\n",
    "    print(\"Onion is not available enough for Pizza\")"
   ]
  },
  {
   "cell_type": "code",
   "execution_count": 6,
   "metadata": {},
   "outputs": [
    {
     "name": "stdout",
     "output_type": "stream",
     "text": [
      "lettuce ia not available \n",
      "onion is available Enough\n"
     ]
    }
   ],
   "source": [
    "if hw_inventory[\"Lettuce\"][\"Qty\"]>= hw_menu [\"Burger\"][\"quantities\"][0]: #qty=gram\n",
    "    print(\"Lettuce is available Enough\")\n",
    "else:\n",
    "    print(\"lettuce ia not available \")\n",
    "if hw_inventory[\"Onion\"][\"Qty\"]>= hw_menu[\"Burger\"][\"quantities\"][1]: #qty=gram\n",
    "    print(\"onion is available Enough\")\n",
    "else:\n",
    "    print(\"onion is not available,\"\"burger is not doable\"\n",
    "    )"
   ]
  },
  {
   "cell_type": "code",
   "execution_count": 7,
   "metadata": {},
   "outputs": [
    {
     "name": "stdout",
     "output_type": "stream",
     "text": [
      "potato is not available Enough\n",
      "Rawa is available Enough pani puri is doable\n"
     ]
    }
   ],
   "source": [
    "if hw_inventory[\"Potato\"][\"Qty\"] >= hw_menu [\"Pani puri\"][\"quantities\"][0]:\n",
    "    print(\"Potato is available Enough\")\n",
    "if hw_inventory[\"Potato\"][\"Qty\"] <= hw_menu [\"Pani puri\"][\"quantities\"][0]:\n",
    "    print(\"potato is not available Enough\")\n",
    "if hw_inventory[\"Rawa\"][\"Qty\"] >= hw_menu [\"Pani puri\"][\"quantities\"][1]:\n",
    "    print(\"Rawa is available Enough\", \"pani puri is doable\")\n",
    "if hw_inventory[\"Rawa\"][\"Qty\"] <= hw_menu [\"Pani puri\"][\"quantities\"][1]:\n",
    "    print(\"rawa is not available Enough\")"
   ]
  },
  {
   "cell_type": "code",
   "execution_count": 8,
   "metadata": {},
   "outputs": [],
   "source": [
    "input_string = \"This is a test string to test the capability of student\"\n",
    "resulting =  \"This a test string to test the capability of student\""
   ]
  },
  {
   "cell_type": "code",
   "execution_count": 9,
   "metadata": {},
   "outputs": [
    {
     "name": "stdout",
     "output_type": "stream",
     "text": [
      "This a test string to test the capability of student\n"
     ]
    }
   ],
   "source": [
    "output = input_string.replace(\" is\", \"\")\n",
    "print(output)"
   ]
  },
  {
   "cell_type": "code",
   "execution_count": 10,
   "metadata": {},
   "outputs": [
    {
     "name": "stdout",
     "output_type": "stream",
     "text": [
      "This a test string to test the capability of student\n"
     ]
    }
   ],
   "source": [
    "input_ = \"Test for the whole class\"\n",
    "output = \"Test for the entire class\"\n",
    "input_string = \"This is a test string to test the capability of student\"\n",
    "words_replace = \" is\"\n",
    "replacement =\"\"\n",
    "\n",
    "A=input_string.find(words_replace)\n",
    "B=A + len(words_replace)\n",
    "output = input_string[:A]+ replacement + input_string[B:]\n",
    "print(output)"
   ]
  },
  {
   "cell_type": "code",
   "execution_count": 11,
   "metadata": {},
   "outputs": [],
   "source": [
    "import numpy as np"
   ]
  },
  {
   "cell_type": "code",
   "execution_count": 12,
   "metadata": {},
   "outputs": [],
   "source": [
    "empty_list = []"
   ]
  },
  {
   "cell_type": "code",
   "execution_count": 13,
   "metadata": {},
   "outputs": [],
   "source": [
    "for i in range(300000):\n",
    "    empty_list.append(i)"
   ]
  },
  {
   "cell_type": "code",
   "execution_count": 14,
   "metadata": {},
   "outputs": [],
   "source": [
    "empty_array = np.array([])"
   ]
  },
  {
   "cell_type": "code",
   "execution_count": 15,
   "metadata": {},
   "outputs": [],
   "source": [
    "for i in range(300000):\n",
    "    np.append(empty_array, i)"
   ]
  },
  {
   "cell_type": "code",
   "execution_count": 16,
   "metadata": {},
   "outputs": [
    {
     "data": {
      "text/plain": [
       "15.0"
      ]
     },
     "execution_count": 16,
     "metadata": {},
     "output_type": "execute_result"
    }
   ],
   "source": [
    "milan = np.arange(10, 20+1)\n",
    "np.average(milan)"
   ]
  },
  {
   "cell_type": "code",
   "execution_count": 17,
   "metadata": {},
   "outputs": [],
   "source": [
    "import pandas as pd"
   ]
  },
  {
   "cell_type": "code",
   "execution_count": 18,
   "metadata": {},
   "outputs": [
    {
     "name": "stdout",
     "output_type": "stream",
     "text": [
      "     PassengerId  Survived  Pclass  \\\n",
      "0            892         0       3   \n",
      "1            893         1       3   \n",
      "2            894         0       2   \n",
      "3            895         0       3   \n",
      "4            896         1       3   \n",
      "..           ...       ...     ...   \n",
      "413         1305         0       3   \n",
      "414         1306         1       1   \n",
      "415         1307         0       3   \n",
      "416         1308         0       3   \n",
      "417         1309         0       3   \n",
      "\n",
      "                                             Name     Sex   Age  SibSp  Parch  \\\n",
      "0                                Kelly, Mr. James    male  34.5      0      0   \n",
      "1                Wilkes, Mrs. James (Ellen Needs)  female  47.0      1      0   \n",
      "2                       Myles, Mr. Thomas Francis    male  62.0      0      0   \n",
      "3                                Wirz, Mr. Albert    male  27.0      0      0   \n",
      "4    Hirvonen, Mrs. Alexander (Helga E Lindqvist)  female  22.0      1      1   \n",
      "..                                            ...     ...   ...    ...    ...   \n",
      "413                            Spector, Mr. Woolf    male   NaN      0      0   \n",
      "414                  Oliva y Ocana, Dona. Fermina  female  39.0      0      0   \n",
      "415                  Saether, Mr. Simon Sivertsen    male  38.5      0      0   \n",
      "416                           Ware, Mr. Frederick    male   NaN      0      0   \n",
      "417                      Peter, Master. Michael J    male   NaN      1      1   \n",
      "\n",
      "                 Ticket      Fare Cabin Embarked  \n",
      "0                330911    7.8292   NaN        Q  \n",
      "1                363272    7.0000   NaN        S  \n",
      "2                240276    9.6875   NaN        Q  \n",
      "3                315154    8.6625   NaN        S  \n",
      "4               3101298   12.2875   NaN        S  \n",
      "..                  ...       ...   ...      ...  \n",
      "413           A.5. 3236    8.0500   NaN        S  \n",
      "414            PC 17758  108.9000  C105        C  \n",
      "415  SOTON/O.Q. 3101262    7.2500   NaN        S  \n",
      "416              359309    8.0500   NaN        S  \n",
      "417                2668   22.3583   NaN        C  \n",
      "\n",
      "[418 rows x 12 columns]\n"
     ]
    }
   ],
   "source": [
    "df = pd.read_csv(\"tested.csv\")\n",
    "print(df)"
   ]
  },
  {
   "cell_type": "code",
   "execution_count": 19,
   "metadata": {},
   "outputs": [
    {
     "data": {
      "text/html": [
       "<div>\n",
       "<style scoped>\n",
       "    .dataframe tbody tr th:only-of-type {\n",
       "        vertical-align: middle;\n",
       "    }\n",
       "\n",
       "    .dataframe tbody tr th {\n",
       "        vertical-align: top;\n",
       "    }\n",
       "\n",
       "    .dataframe thead th {\n",
       "        text-align: right;\n",
       "    }\n",
       "</style>\n",
       "<table border=\"1\" class=\"dataframe\">\n",
       "  <thead>\n",
       "    <tr style=\"text-align: right;\">\n",
       "      <th></th>\n",
       "      <th>PassengerId</th>\n",
       "      <th>Survived</th>\n",
       "      <th>Pclass</th>\n",
       "      <th>Name</th>\n",
       "      <th>Sex</th>\n",
       "      <th>Age</th>\n",
       "      <th>SibSp</th>\n",
       "      <th>Parch</th>\n",
       "      <th>Ticket</th>\n",
       "      <th>Fare</th>\n",
       "      <th>Cabin</th>\n",
       "      <th>Embarked</th>\n",
       "    </tr>\n",
       "  </thead>\n",
       "  <tbody>\n",
       "    <tr>\n",
       "      <th>417</th>\n",
       "      <td>1309</td>\n",
       "      <td>0</td>\n",
       "      <td>3</td>\n",
       "      <td>Peter, Master. Michael J</td>\n",
       "      <td>male</td>\n",
       "      <td>NaN</td>\n",
       "      <td>1</td>\n",
       "      <td>1</td>\n",
       "      <td>2668</td>\n",
       "      <td>22.3583</td>\n",
       "      <td>NaN</td>\n",
       "      <td>C</td>\n",
       "    </tr>\n",
       "    <tr>\n",
       "      <th>416</th>\n",
       "      <td>1308</td>\n",
       "      <td>0</td>\n",
       "      <td>3</td>\n",
       "      <td>Ware, Mr. Frederick</td>\n",
       "      <td>male</td>\n",
       "      <td>NaN</td>\n",
       "      <td>0</td>\n",
       "      <td>0</td>\n",
       "      <td>359309</td>\n",
       "      <td>8.0500</td>\n",
       "      <td>NaN</td>\n",
       "      <td>S</td>\n",
       "    </tr>\n",
       "    <tr>\n",
       "      <th>415</th>\n",
       "      <td>1307</td>\n",
       "      <td>0</td>\n",
       "      <td>3</td>\n",
       "      <td>Saether, Mr. Simon Sivertsen</td>\n",
       "      <td>male</td>\n",
       "      <td>38.5</td>\n",
       "      <td>0</td>\n",
       "      <td>0</td>\n",
       "      <td>SOTON/O.Q. 3101262</td>\n",
       "      <td>7.2500</td>\n",
       "      <td>NaN</td>\n",
       "      <td>S</td>\n",
       "    </tr>\n",
       "    <tr>\n",
       "      <th>414</th>\n",
       "      <td>1306</td>\n",
       "      <td>1</td>\n",
       "      <td>1</td>\n",
       "      <td>Oliva y Ocana, Dona. Fermina</td>\n",
       "      <td>female</td>\n",
       "      <td>39.0</td>\n",
       "      <td>0</td>\n",
       "      <td>0</td>\n",
       "      <td>PC 17758</td>\n",
       "      <td>108.9000</td>\n",
       "      <td>C105</td>\n",
       "      <td>C</td>\n",
       "    </tr>\n",
       "    <tr>\n",
       "      <th>413</th>\n",
       "      <td>1305</td>\n",
       "      <td>0</td>\n",
       "      <td>3</td>\n",
       "      <td>Spector, Mr. Woolf</td>\n",
       "      <td>male</td>\n",
       "      <td>NaN</td>\n",
       "      <td>0</td>\n",
       "      <td>0</td>\n",
       "      <td>A.5. 3236</td>\n",
       "      <td>8.0500</td>\n",
       "      <td>NaN</td>\n",
       "      <td>S</td>\n",
       "    </tr>\n",
       "    <tr>\n",
       "      <th>...</th>\n",
       "      <td>...</td>\n",
       "      <td>...</td>\n",
       "      <td>...</td>\n",
       "      <td>...</td>\n",
       "      <td>...</td>\n",
       "      <td>...</td>\n",
       "      <td>...</td>\n",
       "      <td>...</td>\n",
       "      <td>...</td>\n",
       "      <td>...</td>\n",
       "      <td>...</td>\n",
       "      <td>...</td>\n",
       "    </tr>\n",
       "    <tr>\n",
       "      <th>4</th>\n",
       "      <td>896</td>\n",
       "      <td>1</td>\n",
       "      <td>3</td>\n",
       "      <td>Hirvonen, Mrs. Alexander (Helga E Lindqvist)</td>\n",
       "      <td>female</td>\n",
       "      <td>22.0</td>\n",
       "      <td>1</td>\n",
       "      <td>1</td>\n",
       "      <td>3101298</td>\n",
       "      <td>12.2875</td>\n",
       "      <td>NaN</td>\n",
       "      <td>S</td>\n",
       "    </tr>\n",
       "    <tr>\n",
       "      <th>3</th>\n",
       "      <td>895</td>\n",
       "      <td>0</td>\n",
       "      <td>3</td>\n",
       "      <td>Wirz, Mr. Albert</td>\n",
       "      <td>male</td>\n",
       "      <td>27.0</td>\n",
       "      <td>0</td>\n",
       "      <td>0</td>\n",
       "      <td>315154</td>\n",
       "      <td>8.6625</td>\n",
       "      <td>NaN</td>\n",
       "      <td>S</td>\n",
       "    </tr>\n",
       "    <tr>\n",
       "      <th>2</th>\n",
       "      <td>894</td>\n",
       "      <td>0</td>\n",
       "      <td>2</td>\n",
       "      <td>Myles, Mr. Thomas Francis</td>\n",
       "      <td>male</td>\n",
       "      <td>62.0</td>\n",
       "      <td>0</td>\n",
       "      <td>0</td>\n",
       "      <td>240276</td>\n",
       "      <td>9.6875</td>\n",
       "      <td>NaN</td>\n",
       "      <td>Q</td>\n",
       "    </tr>\n",
       "    <tr>\n",
       "      <th>1</th>\n",
       "      <td>893</td>\n",
       "      <td>1</td>\n",
       "      <td>3</td>\n",
       "      <td>Wilkes, Mrs. James (Ellen Needs)</td>\n",
       "      <td>female</td>\n",
       "      <td>47.0</td>\n",
       "      <td>1</td>\n",
       "      <td>0</td>\n",
       "      <td>363272</td>\n",
       "      <td>7.0000</td>\n",
       "      <td>NaN</td>\n",
       "      <td>S</td>\n",
       "    </tr>\n",
       "    <tr>\n",
       "      <th>0</th>\n",
       "      <td>892</td>\n",
       "      <td>0</td>\n",
       "      <td>3</td>\n",
       "      <td>Kelly, Mr. James</td>\n",
       "      <td>male</td>\n",
       "      <td>34.5</td>\n",
       "      <td>0</td>\n",
       "      <td>0</td>\n",
       "      <td>330911</td>\n",
       "      <td>7.8292</td>\n",
       "      <td>NaN</td>\n",
       "      <td>Q</td>\n",
       "    </tr>\n",
       "  </tbody>\n",
       "</table>\n",
       "<p>418 rows × 12 columns</p>\n",
       "</div>"
      ],
      "text/plain": [
       "     PassengerId  Survived  Pclass  \\\n",
       "417         1309         0       3   \n",
       "416         1308         0       3   \n",
       "415         1307         0       3   \n",
       "414         1306         1       1   \n",
       "413         1305         0       3   \n",
       "..           ...       ...     ...   \n",
       "4            896         1       3   \n",
       "3            895         0       3   \n",
       "2            894         0       2   \n",
       "1            893         1       3   \n",
       "0            892         0       3   \n",
       "\n",
       "                                             Name     Sex   Age  SibSp  Parch  \\\n",
       "417                      Peter, Master. Michael J    male   NaN      1      1   \n",
       "416                           Ware, Mr. Frederick    male   NaN      0      0   \n",
       "415                  Saether, Mr. Simon Sivertsen    male  38.5      0      0   \n",
       "414                  Oliva y Ocana, Dona. Fermina  female  39.0      0      0   \n",
       "413                            Spector, Mr. Woolf    male   NaN      0      0   \n",
       "..                                            ...     ...   ...    ...    ...   \n",
       "4    Hirvonen, Mrs. Alexander (Helga E Lindqvist)  female  22.0      1      1   \n",
       "3                                Wirz, Mr. Albert    male  27.0      0      0   \n",
       "2                       Myles, Mr. Thomas Francis    male  62.0      0      0   \n",
       "1                Wilkes, Mrs. James (Ellen Needs)  female  47.0      1      0   \n",
       "0                                Kelly, Mr. James    male  34.5      0      0   \n",
       "\n",
       "                 Ticket      Fare Cabin Embarked  \n",
       "417                2668   22.3583   NaN        C  \n",
       "416              359309    8.0500   NaN        S  \n",
       "415  SOTON/O.Q. 3101262    7.2500   NaN        S  \n",
       "414            PC 17758  108.9000  C105        C  \n",
       "413           A.5. 3236    8.0500   NaN        S  \n",
       "..                  ...       ...   ...      ...  \n",
       "4               3101298   12.2875   NaN        S  \n",
       "3                315154    8.6625   NaN        S  \n",
       "2                240276    9.6875   NaN        Q  \n",
       "1                363272    7.0000   NaN        S  \n",
       "0                330911    7.8292   NaN        Q  \n",
       "\n",
       "[418 rows x 12 columns]"
      ]
     },
     "execution_count": 19,
     "metadata": {},
     "output_type": "execute_result"
    }
   ],
   "source": [
    "df.sort_values('PassengerId', ascending=False)"
   ]
  },
  {
   "cell_type": "code",
   "execution_count": 20,
   "metadata": {},
   "outputs": [],
   "source": [
    "index = pd.Series([\"A\",\"B\",\"C\"])\n",
    "columns = pd.Series(['Test 1', 'Test 2', \"Test 3\"])\n",
    "values = np.array([[1, 2, 6], [3, 4, 7], [5, 6, 8]])"
   ]
  },
  {
   "cell_type": "code",
   "execution_count": 21,
   "metadata": {},
   "outputs": [
    {
     "data": {
      "text/html": [
       "<div>\n",
       "<style scoped>\n",
       "    .dataframe tbody tr th:only-of-type {\n",
       "        vertical-align: middle;\n",
       "    }\n",
       "\n",
       "    .dataframe tbody tr th {\n",
       "        vertical-align: top;\n",
       "    }\n",
       "\n",
       "    .dataframe thead th {\n",
       "        text-align: right;\n",
       "    }\n",
       "</style>\n",
       "<table border=\"1\" class=\"dataframe\">\n",
       "  <thead>\n",
       "    <tr style=\"text-align: right;\">\n",
       "      <th></th>\n",
       "      <th>Test 1</th>\n",
       "      <th>Test 2</th>\n",
       "      <th>Test 3</th>\n",
       "    </tr>\n",
       "  </thead>\n",
       "  <tbody>\n",
       "    <tr>\n",
       "      <th>A</th>\n",
       "      <td>1</td>\n",
       "      <td>2</td>\n",
       "      <td>6</td>\n",
       "    </tr>\n",
       "    <tr>\n",
       "      <th>B</th>\n",
       "      <td>3</td>\n",
       "      <td>4</td>\n",
       "      <td>7</td>\n",
       "    </tr>\n",
       "    <tr>\n",
       "      <th>C</th>\n",
       "      <td>5</td>\n",
       "      <td>6</td>\n",
       "      <td>8</td>\n",
       "    </tr>\n",
       "  </tbody>\n",
       "</table>\n",
       "</div>"
      ],
      "text/plain": [
       "   Test 1  Test 2  Test 3\n",
       "A       1       2       6\n",
       "B       3       4       7\n",
       "C       5       6       8"
      ]
     },
     "execution_count": 21,
     "metadata": {},
     "output_type": "execute_result"
    }
   ],
   "source": [
    "data = pd.DataFrame(values, index=index, columns=columns)\n",
    "data"
   ]
  },
  {
   "cell_type": "code",
   "execution_count": 22,
   "metadata": {},
   "outputs": [],
   "source": [
    "df = pd.read_csv(\"job_placement (1).csv\")"
   ]
  },
  {
   "cell_type": "code",
   "execution_count": 23,
   "metadata": {},
   "outputs": [
    {
     "data": {
      "text/html": [
       "<div>\n",
       "<style scoped>\n",
       "    .dataframe tbody tr th:only-of-type {\n",
       "        vertical-align: middle;\n",
       "    }\n",
       "\n",
       "    .dataframe tbody tr th {\n",
       "        vertical-align: top;\n",
       "    }\n",
       "\n",
       "    .dataframe thead th {\n",
       "        text-align: right;\n",
       "    }\n",
       "</style>\n",
       "<table border=\"1\" class=\"dataframe\">\n",
       "  <thead>\n",
       "    <tr style=\"text-align: right;\">\n",
       "      <th></th>\n",
       "      <th>id</th>\n",
       "      <th>name</th>\n",
       "      <th>gender</th>\n",
       "      <th>age</th>\n",
       "      <th>degree</th>\n",
       "      <th>stream</th>\n",
       "      <th>college_name</th>\n",
       "      <th>placement_status</th>\n",
       "      <th>salary</th>\n",
       "      <th>gpa</th>\n",
       "      <th>years_of_experience</th>\n",
       "    </tr>\n",
       "  </thead>\n",
       "  <tbody>\n",
       "    <tr>\n",
       "      <th>0</th>\n",
       "      <td>1</td>\n",
       "      <td>John Doe</td>\n",
       "      <td>Male</td>\n",
       "      <td>25</td>\n",
       "      <td>Bachelor's</td>\n",
       "      <td>Computer Science</td>\n",
       "      <td>Harvard University</td>\n",
       "      <td>Placed</td>\n",
       "      <td>60000</td>\n",
       "      <td>3.7</td>\n",
       "      <td>2.0</td>\n",
       "    </tr>\n",
       "    <tr>\n",
       "      <th>1</th>\n",
       "      <td>2</td>\n",
       "      <td>Jane Smith</td>\n",
       "      <td>Female</td>\n",
       "      <td>24</td>\n",
       "      <td>Bachelor's</td>\n",
       "      <td>Electrical Engineering</td>\n",
       "      <td>Massachusetts Institute of Technology</td>\n",
       "      <td>Placed</td>\n",
       "      <td>65000</td>\n",
       "      <td>3.6</td>\n",
       "      <td>1.0</td>\n",
       "    </tr>\n",
       "    <tr>\n",
       "      <th>2</th>\n",
       "      <td>3</td>\n",
       "      <td>Michael Johnson</td>\n",
       "      <td>Male</td>\n",
       "      <td>26</td>\n",
       "      <td>Bachelor's</td>\n",
       "      <td>Mechanical Engineering</td>\n",
       "      <td>Stanford University</td>\n",
       "      <td>Placed</td>\n",
       "      <td>58000</td>\n",
       "      <td>3.8</td>\n",
       "      <td>3.0</td>\n",
       "    </tr>\n",
       "    <tr>\n",
       "      <th>3</th>\n",
       "      <td>4</td>\n",
       "      <td>Emily Davis</td>\n",
       "      <td>Female</td>\n",
       "      <td>23</td>\n",
       "      <td>Bachelor's</td>\n",
       "      <td>Information Technology</td>\n",
       "      <td>Yale University</td>\n",
       "      <td>Not Placed</td>\n",
       "      <td>0</td>\n",
       "      <td>3.5</td>\n",
       "      <td>2.0</td>\n",
       "    </tr>\n",
       "    <tr>\n",
       "      <th>4</th>\n",
       "      <td>5</td>\n",
       "      <td>David Brown</td>\n",
       "      <td>Male</td>\n",
       "      <td>24</td>\n",
       "      <td>Bachelor's</td>\n",
       "      <td>Computer Science</td>\n",
       "      <td>Princeton University</td>\n",
       "      <td>Placed</td>\n",
       "      <td>62000</td>\n",
       "      <td>3.9</td>\n",
       "      <td>2.0</td>\n",
       "    </tr>\n",
       "  </tbody>\n",
       "</table>\n",
       "</div>"
      ],
      "text/plain": [
       "   id             name  gender  age      degree                  stream  \\\n",
       "0   1         John Doe    Male   25  Bachelor's        Computer Science   \n",
       "1   2       Jane Smith  Female   24  Bachelor's  Electrical Engineering   \n",
       "2   3  Michael Johnson    Male   26  Bachelor's  Mechanical Engineering   \n",
       "3   4      Emily Davis  Female   23  Bachelor's  Information Technology   \n",
       "4   5      David Brown    Male   24  Bachelor's        Computer Science   \n",
       "\n",
       "                            college_name placement_status  salary  gpa  \\\n",
       "0                     Harvard University           Placed   60000  3.7   \n",
       "1  Massachusetts Institute of Technology           Placed   65000  3.6   \n",
       "2                    Stanford University           Placed   58000  3.8   \n",
       "3                        Yale University       Not Placed       0  3.5   \n",
       "4                   Princeton University           Placed   62000  3.9   \n",
       "\n",
       "   years_of_experience  \n",
       "0                  2.0  \n",
       "1                  1.0  \n",
       "2                  3.0  \n",
       "3                  2.0  \n",
       "4                  2.0  "
      ]
     },
     "execution_count": 23,
     "metadata": {},
     "output_type": "execute_result"
    }
   ],
   "source": [
    "df.head()"
   ]
  },
  {
   "cell_type": "markdown",
   "metadata": {},
   "source": [
    "# It is easier to get a job for a women?"
   ]
  },
  {
   "cell_type": "code",
   "execution_count": 24,
   "metadata": {},
   "outputs": [
    {
     "data": {
      "text/plain": [
       "0.1721311475409836"
      ]
     },
     "execution_count": 24,
     "metadata": {},
     "output_type": "execute_result"
    }
   ],
   "source": [
    "len(df.loc[(df.gender == 'Female')&(df.placement_status == 'Not Placed')]) / len(df.loc[(df.gender=='Female')])"
   ]
  },
  {
   "cell_type": "code",
   "execution_count": 25,
   "metadata": {},
   "outputs": [
    {
     "data": {
      "text/plain": [
       "0.20059880239520958"
      ]
     },
     "execution_count": 25,
     "metadata": {},
     "output_type": "execute_result"
    }
   ],
   "source": [
    "len(df.loc[(df.gender == 'Male') & (df.placement_status == 'Not Placed')]) / len(df.loc[(df.gender == 'Male')])"
   ]
  },
  {
   "cell_type": "markdown",
   "metadata": {},
   "source": [
    "# Do males earn higher than women?"
   ]
  },
  {
   "cell_type": "markdown",
   "metadata": {},
   "source": [
    "#number of men and women,"
   ]
  },
  {
   "cell_type": "markdown",
   "metadata": {},
   "source": [
    "#total salary earned"
   ]
  },
  {
   "cell_type": "code",
   "execution_count": 26,
   "metadata": {},
   "outputs": [
    {
     "data": {
      "text/plain": [
       "53401.639344262294"
      ]
     },
     "execution_count": 26,
     "metadata": {},
     "output_type": "execute_result"
    }
   ],
   "source": [
    "df.loc[(df.gender == 'Female')].salary.sum() /  len(df.loc[(df.gender == 'Female')])"
   ]
  },
  {
   "cell_type": "code",
   "execution_count": 27,
   "metadata": {},
   "outputs": [
    {
     "data": {
      "text/plain": [
       "51458.08383233533"
      ]
     },
     "execution_count": 27,
     "metadata": {},
     "output_type": "execute_result"
    }
   ],
   "source": [
    "df.loc[(df.gender == 'Male')].salary.sum() /  len(df.loc[(df.gender == 'Male')])"
   ]
  },
  {
   "cell_type": "markdown",
   "metadata": {},
   "source": [
    "# Which stearm earns the most?"
   ]
  },
  {
   "cell_type": "code",
   "execution_count": 28,
   "metadata": {},
   "outputs": [
    {
     "name": "stdout",
     "output_type": "stream",
     "text": [
      "Computer Science 48359.81308411215\n",
      "Electrical Engineering 51544.642857142855\n",
      "Mechanical Engineering 52180.18018018018\n",
      "Information Technology 54407.89473684211\n",
      "Electronics and Communication 58990.99099099099\n"
     ]
    }
   ],
   "source": [
    "df.stream.unique()\n",
    "for i in df.stream.unique():\n",
    "    print(i, df.loc[(df.stream == i)].salary.sum() /  len(df.loc[(df.stream == i)]))"
   ]
  },
  {
   "cell_type": "markdown",
   "metadata": {},
   "source": [
    "# Which stream is the best for women?"
   ]
  },
  {
   "cell_type": "code",
   "execution_count": 29,
   "metadata": {},
   "outputs": [
    {
     "name": "stdout",
     "output_type": "stream",
     "text": [
      "The best stream for women is : Electronics and Communicationand the highest avg salary is : 59049.01960784314\n"
     ]
    }
   ],
   "source": [
    "women = df[df['gender']=='Female']\n",
    "avg_salary_by_stream = women.groupby('stream')['salary'].mean()\n",
    "best_stream = avg_salary_by_stream.idxmax()\n",
    "highest_avg_salary = avg_salary_by_stream.max()\n",
    "\n",
    "print(f\"The best stream for women is : {best_stream}and the highest avg salary is : {highest_avg_salary}\")"
   ]
  },
  {
   "cell_type": "code",
   "execution_count": 30,
   "metadata": {},
   "outputs": [
    {
     "data": {
      "text/plain": [
       "196.0165054274767"
      ]
     },
     "execution_count": 30,
     "metadata": {},
     "output_type": "execute_result"
    }
   ],
   "source": [
    "v = [1, 2, 73, 57, 43, 601, 206]\n",
    "\n",
    "mean = 140.43\n",
    "198.56\n",
    "\n",
    "2,777.2464\n",
    "2,737.5521\n",
    "649.5435\n",
    "39.2235\n",
    "1,356.0864\n",
    "30,303.5321\n",
    "559.2864\n",
    "\n",
    "196.0165054274767"
   ]
  },
  {
   "cell_type": "code",
   "execution_count": 31,
   "metadata": {},
   "outputs": [
    {
     "data": {
      "text/plain": [
       "stream\n",
       "Electronics and Communication    40305.053066\n",
       "Information Technology           31367.468514\n",
       "Electrical Engineering           26752.727697\n",
       "Mechanical Engineering           26223.305364\n",
       "Computer Science                 16969.713246\n",
       "Name: salary, dtype: float64"
      ]
     },
     "execution_count": 31,
     "metadata": {},
     "output_type": "execute_result"
    }
   ],
   "source": [
    "mean = women.groupby('stream')['salary'].mean()\n",
    "(mean - df.groupby('stream')['salary'].std()).sort_values(ascending=False)"
   ]
  },
  {
   "cell_type": "code",
   "execution_count": 32,
   "metadata": {},
   "outputs": [
    {
     "name": "stdout",
     "output_type": "stream",
     "text": [
      "The best stream for men is : Electronics and Communication and the highest avg salary is : 58333.333333333336\n"
     ]
    }
   ],
   "source": [
    "men = df[df['gender']=='Male']\n",
    "avg_salary_by_stream = men.groupby('stream')['salary'].mean()\n",
    "best_stream = avg_salary_by_stream.idxmax()\n",
    "highest_avg_salary = avg_salary_by_stream.max()\n",
    "\n",
    "print(f\"The best stream for men is : {best_stream} and the highest avg salary is : {highest_avg_salary}\")"
   ]
  },
  {
   "cell_type": "code",
   "execution_count": 1,
   "metadata": {},
   "outputs": [
    {
     "name": "stdout",
     "output_type": "stream",
     "text": [
      "Hello Python\n"
     ]
    }
   ],
   "source": [
    "print(\"Hello Python\")"
   ]
  }
 ],
 "metadata": {
  "kernelspec": {
   "display_name": "Python 3",
   "language": "python",
   "name": "python3"
  },
  "language_info": {
   "codemirror_mode": {
    "name": "ipython",
    "version": 3
   },
   "file_extension": ".py",
   "mimetype": "text/x-python",
   "name": "python",
   "nbconvert_exporter": "python",
   "pygments_lexer": "ipython3",
   "version": "3.10.10"
  }
 },
 "nbformat": 4,
 "nbformat_minor": 2
}
